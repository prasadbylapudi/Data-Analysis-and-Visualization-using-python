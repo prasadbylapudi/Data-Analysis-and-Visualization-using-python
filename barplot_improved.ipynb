{
  "nbformat": 4,
  "nbformat_minor": 0,
  "metadata": {
    "colab": {
      "name": "Untitled2.ipynb",
      "provenance": [],
      "collapsed_sections": [],
      "authorship_tag": "ABX9TyP4KY9sYS4iGxsLsgTvLaoU",
      "include_colab_link": true
    },
    "kernelspec": {
      "name": "python3",
      "display_name": "Python 3"
    }
  },
  "cells": [
    {
      "cell_type": "markdown",
      "metadata": {
        "id": "view-in-github",
        "colab_type": "text"
      },
      "source": [
        "<a href=\"https://colab.research.google.com/github/prasadbylapudi/Data-Analysis-and-Visualization-using-python/blob/master/barplot_improved.ipynb\" target=\"_parent\"><img src=\"https://colab.research.google.com/assets/colab-badge.svg\" alt=\"Open In Colab\"/></a>"
      ]
    },
    {
      "cell_type": "code",
      "metadata": {
        "id": "OgvQkmoQiuIF",
        "colab_type": "code",
        "outputId": "7ce8b860-5269-455b-f303-868e65b07a94",
        "colab": {
          "base_uri": "https://localhost:8080/",
          "height": 295
        }
      },
      "source": [
        "import matplotlib.pyplot as plt\n",
        "\n",
        "# Look at index 4 and 6, which demonstrate overlapping cases.\n",
        "x1 = [1, 3, 4, 5, 6, 7, 9]\n",
        "y1 = [4, 7, 2, 4, 7, 8, 3]\n",
        "\n",
        "x2 = [2, 4, 6, 8, 10]\n",
        "y2 = [5, 6, 2, 6, 2]\n",
        "\n",
        "plt.bar(x1, y1, label=\"Blue Bar\", color='b')\n",
        "plt.bar(x2, y2, label=\"Green Bar\", color='g')\n",
        "plt.plot([8,-8],[0,0],'h--')#k-- to print the x -axis in dashed,otherwise line\n",
        "plt.plot([0,0],[8,-8],'y--')\n",
        "plt.axis((-8,8,-8,8))# x-axis negative,x-axis positive,y-axis -ve,y-axis +ve\n",
        "\n",
        "\n",
        "plt.plot()\n",
        "plt.xlabel(\"bar number\")\n",
        "plt.ylabel(\"bar height\")\n",
        "plt.title(\"Bar Chart Example\")\n",
        "plt.legend()\n",
        "plt.show()"
      ],
      "execution_count": 18,
      "outputs": [
        {
          "output_type": "display_data",
          "data": {
            "image/png": "[encoded data removed]",
            "text/plain": [
              "<Figure size 432x288 with 1 Axes>"
            ]
          },
          "metadata": {
            "tags": []
          }
        }
      ]
    },
    {
      "cell_type": "code",
      "metadata": {
        "id": "ZgbsR1t1qeHQ",
        "colab_type": "code",
        "colab": {}
      },
      "source": [
        ""
      ],
      "execution_count": 0,
      "outputs": []
    }
  ]
}