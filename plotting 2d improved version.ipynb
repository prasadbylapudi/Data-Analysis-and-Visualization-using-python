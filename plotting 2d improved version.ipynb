{
  "nbformat": 4,
  "nbformat_minor": 0,
  "metadata": {
    "colab": {
      "name": "Untitled0.ipynb",
      "provenance": []
    },
    "kernelspec": {
      "name": "python3",
      "display_name": "Python 3"
    }
  },
  "cells": [
    {
      "cell_type": "code",
      "metadata": {
        "id": "flEfWE-SorIa",
        "colab_type": "code",
        "colab": {
          "base_uri": "https://localhost:8080/",
          "height": 286
        },
        "outputId": "acf8510b-f6ff-4738-8a78-ca554235594a"
      },
      "source": [
        "from matplotlib import pyplot as plt\n",
        "v=[3,4]\n",
        "u=[1,2,3]\n",
        "plt.plot([0,v[0]],[0,v[1]])#it's going to print from origin\n",
        "plt.plot([8,-8],[0,0],'k--')#k-- to print the x -axis in dashed,otherwise line\n",
        "plt.plot([0,0],[8,-8],'k--')\n",
        "plt.grid()#shows dimensional grid in 2D x and y\n",
        "plt.axis((-8,8,-8,8))# x-axis negative,x-axis positive,y-axis -ve,y-axis +ve\n"
      ],
      "execution_count": 38,
      "outputs": [
        {
          "output_type": "execute_result",
          "data": {
            "text/plain": [
              "(-8, 8, -8, 8)"
            ]
          },
          "metadata": {
            "tags": []
          },
          "execution_count": 38
        },
        {
          "output_type": "display_data",
          "data": {
            "image/png": "[encoded data removed]",
            "text/plain": [
              "<Figure size 432x288 with 1 Axes>"
            ]
          },
          "metadata": {
            "tags": []
          }
        }
      ]
    }
  ]
}